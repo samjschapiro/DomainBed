{
 "cells": [
  {
   "cell_type": "code",
   "execution_count": 11,
   "metadata": {
    "vscode": {
     "languageId": "shellscript"
    }
   },
   "outputs": [
    {
     "name": "stdout",
     "output_type": "stream",
     "text": [
      "CODE_OF_CONDUCT.md  LICENSE    \u001b[0m\u001b[01;34mdomainbed\u001b[0m/\n",
      "CONTRIBUTING.md     README.md  run_domainbed.ipynb\n"
     ]
    }
   ],
   "source": [
    "ls"
   ]
  },
  {
   "cell_type": "code",
   "execution_count": null,
   "metadata": {
    "vscode": {
     "languageId": "shellscript"
    }
   },
   "outputs": [],
   "source": [
    "!pip install wilds"
   ]
  },
  {
   "cell_type": "code",
   "execution_count": 3,
   "metadata": {
    "vscode": {
     "languageId": "shellscript"
    }
   },
   "outputs": [
    {
     "name": "stdout",
     "output_type": "stream",
     "text": [
      "Downloading...\n",
      "From: https://storage.googleapis.com/public-datasets-lila/caltechcameratraps/eccv_18_all_images_sm.tar.gz\n",
      "To: /home/samuel_schapiro/domainbed_SAM/DomainBed/domainbed/data/terra_incognita/terra_incognita_images.tar.gz\n",
      "100%|██████████████████████████████████████| 6.49G/6.49G [02:02<00:00, 53.0MB/s]\n",
      "Downloading...\n",
      "From: https://storage.googleapis.com/public-datasets-lila/caltechcameratraps/eccv_18_annotations.tar.gz\n",
      "To: /home/samuel_schapiro/domainbed_SAM/DomainBed/domainbed/data/terra_incognita/eccv_18_annotations.tar.gz\n",
      "100%|██████████████████████████████████████| 3.00M/3.00M [00:00<00:00, 31.6MB/s]\n"
     ]
    }
   ],
   "source": [
    "!python3 -m domainbed.scripts.download \\\n",
    "       --data_dir=./domainbed/data"
   ]
  },
  {
   "cell_type": "code",
   "execution_count": 6,
   "metadata": {
    "vscode": {
     "languageId": "shellscript"
    }
   },
   "outputs": [
    {
     "name": "stdout",
     "output_type": "stream",
     "text": [
      "Environment:\n",
      "\tPython: 3.9.7\n",
      "\tPyTorch: 2.4.1+cu118\n",
      "\tTorchvision: 0.19.1+cu118\n",
      "\tCUDA: 11.8\n",
      "\tCUDNN: 90100\n",
      "\tNumPy: 1.26.4\n",
      "\tPIL: 10.0.1\n",
      "Args:\n",
      "\talgorithm: SAM\n",
      "\tcheckpoint_freq: None\n",
      "\tdata_dir: ./domainbed/data/MNIST/\n",
      "\tdataset: ColoredMNIST\n",
      "\tholdout_fraction: 0.2\n",
      "\thparams: {\"sam_rho\": 0.05, \"lr\": 0.001}\n",
      "\thparams_seed: 0\n",
      "\toutput_dir: ./results_sam_erm_coloredmnist\n",
      "\tsave_model_every_checkpoint: False\n",
      "\tseed: 0\n",
      "\tskip_model_save: False\n",
      "\tsteps: None\n",
      "\ttask: domain_generalization\n",
      "\ttest_envs: [1]\n",
      "\ttrial_seed: 0\n",
      "\tuda_holdout_fraction: 0\n",
      "HParams:\n",
      "\tbatch_size: 64\n",
      "\tclass_balanced: False\n",
      "\tdata_augmentation: True\n",
      "\tdinov2: False\n",
      "\tfreeze_bn: False\n",
      "\tlars: False\n",
      "\tlinear_steps: 500\n",
      "\tlr: 0.001\n",
      "\tnonlinear_classifier: False\n",
      "\tresnet18: False\n",
      "\tresnet50_augmix: True\n",
      "\tresnet_dropout: 0.0\n",
      "\tsam_rho: 0.05\n",
      "\tvit: False\n",
      "\tvit_attn_tune: False\n",
      "\tvit_dropout: 0.0\n",
      "\tweight_decay: 0.0\n",
      "env0_in_acc   env0_out_acc  env1_in_acc   env1_out_acc  env2_in_acc   env2_out_acc  epoch         loss          loss_sharp    mem_gb        step          step_time    \n",
      "0.4972680523  0.4976425204  0.4996517919  0.4952850407  0.4963839931  0.4939991427  0.0000000000  0.7123243809  1.1496863365  0.1664662361  0             3.0429129601 \n",
      "0.4951789158  0.4952850407  0.5014731880  0.4954993571  0.5077409332  0.5053579083  0.3428510205  0.7064913487  0.7470614696  0.1706204414  100           0.0281559825 \n",
      "0.5767088065  0.5694384912  0.5693469759  0.5765109301  0.5045267049  0.5008572653  0.6857020410  0.6927110749  0.7097913468  0.1706204414  200           0.0292502594 \n",
      "0.6225091065  0.6290184312  0.5940965340  0.5975139306  0.4436706487  0.4509215602  1.0285530616  0.6914108604  0.7041129827  0.1706204414  300           0.0290858436 \n",
      "0.5680308549  0.5660094299  0.5663470295  0.5681525932  0.5562757808  0.5602228890  1.3714040821  0.6887067378  0.6972647870  0.1706204414  400           0.0252001143 \n",
      "0.6342404114  0.6288041149  0.6247388439  0.6358765538  0.5924894198  0.5938705529  1.7142551026  0.6772847670  0.6870742142  0.1706204414  500           0.0288816881 \n",
      "0.6293121920  0.6232318903  0.6259709648  0.6236605229  0.6394707237  0.6345906558  2.0571061231  0.6517970592  0.6655875647  0.1706204414  600           0.0293473697 \n",
      "0.7285729591  0.7284612087  0.7222906734  0.7198885555  0.7014517598  0.6980282898  2.3999571436  0.6146639603  0.6300450760  0.1706204414  700           0.0256059623 \n",
      "0.7233769016  0.7252464638  0.7221835324  0.7153879126  0.7230406600  0.7246035148  2.7428081641  0.5866270214  0.5994556218  0.1706204414  800           0.0281013632 \n",
      "0.7211270624  0.7224603515  0.7205764183  0.7198885555  0.7293619757  0.7261037291  3.0856591847  0.5878985298  0.6015587741  0.1706204414  900           0.0300724745 \n",
      "0.7262159846  0.7248178311  0.7222906734  0.7188169739  0.7354690095  0.7316759537  3.4285102052  0.5807402179  0.5923406780  0.1706204414  1000          0.0269271731 \n",
      "0.7270194986  0.7248178311  0.7218621096  0.7192456065  0.7348797343  0.7286755251  3.7713612257  0.5847656372  0.5952477640  0.1706204414  1100          0.0275911903 \n",
      "0.7225733876  0.7179597085  0.7159157872  0.7194599228  0.7327369154  0.7288898414  4.1142122462  0.5742467394  0.5845557952  0.1706204414  1200          0.0259892464 \n",
      "0.7268052282  0.7220317188  0.7208978411  0.7190312902  0.7397010768  0.7314616374  4.4570632667  0.5745875809  0.5850928116  0.1706204414  1300          0.0248807979 \n",
      "0.7331797729  0.7321045864  0.7276477206  0.7220317188  0.7373975465  0.7303900557  4.7999142872  0.5790780967  0.5891053581  0.1706204414  1400          0.0261485577 \n",
      "0.7337690165  0.7306043721  0.7290941233  0.7248178311  0.7385225264  0.7286755251  5.1427653078  0.5713000187  0.5814331648  0.1706204414  1500          0.0290137076 \n",
      "0.7363402614  0.7321045864  0.7314512241  0.7218174025  0.7398617882  0.7327475354  5.4856163283  0.5681187260  0.5774604160  0.1706204414  1600          0.0303546667 \n",
      "0.7362331262  0.7306043721  0.7295762576  0.7226746678  0.7380403921  0.7271753108  5.8284673488  0.5664592189  0.5761665192  0.1706204414  1700          0.0257370949 \n",
      "0.7366080994  0.7308186884  0.7302726737  0.7250321474  0.7415224728  0.7342477497  6.1713183693  0.5646151534  0.5741699135  0.1706204414  1800          0.0301499152 \n",
      "0.7388043711  0.7376768110  0.7329511973  0.7282468924  0.7439331441  0.7372481783  6.5141693898  0.5725985321  0.5817581385  0.1706204414  1900          0.0296200013 \n",
      "0.7360724234  0.7301757394  0.7289869824  0.7194599228  0.7466652381  0.7359622803  6.8570204103  0.5664726120  0.5757739252  0.1706204414  2000          0.0270501232 \n",
      "0.7368759374  0.7333904844  0.7303798146  0.7246035148  0.7465580972  0.7346763823  7.1998714309  0.5684477407  0.5776178122  0.1706204414  2100          0.0310728526 \n",
      "0.7391257767  0.7338191170  0.7316119355  0.7241748821  0.7473080838  0.7355336477  7.5427224514  0.5638984257  0.5730240619  0.1706204414  2200          0.0296241593 \n",
      "0.7436254553  0.7363909130  0.7360047142  0.7291041577  0.7443617078  0.7325332190  7.8855734719  0.5653815383  0.5743792173  0.1706204414  2300          0.0261333537 \n",
      "0.7358045854  0.7291041577  0.7275405796  0.7222460351  0.7498794664  0.7400342906  8.2284244924  0.5605396661  0.5701354626  0.1706204414  2400          0.0292036676 \n",
      "0.7416970216  0.7357479640  0.7328440564  0.7321045864  0.7476830771  0.7361765967  8.5712755129  0.5638133299  0.5733741581  0.1706204414  2500          0.0293560338 \n",
      "0.7413220484  0.7359622803  0.7322012107  0.7254607801  0.7481116409  0.7387483926  8.9141265335  0.5659382105  0.5752495840  0.1706204414  2600          0.0258926940 \n",
      "0.7435183201  0.7376768110  0.7336476134  0.7338191170  0.7485402046  0.7376768110  9.2569775540  0.5639604300  0.5730659711  0.1706204414  2700          0.0299773717 \n",
      "0.7463574030  0.7391770253  0.7367011303  0.7344620660  0.7445759897  0.7314616374  9.5998285745  0.5632999614  0.5727437249  0.1706204414  2800          0.0295696807 \n",
      "0.7405721020  0.7353193313  0.7307548079  0.7276039434  0.7540579633  0.7417488213  9.9426795950  0.5570219272  0.5661599380  0.1706204414  2900          0.0263357329 \n",
      "0.7482858367  0.7378911273  0.7362725666  0.7310330047  0.7477902180  0.7346763823  10.285530615  0.5616657427  0.5716827586  0.1706204414  3000          0.0304425573 \n",
      "0.7436254553  0.7327475354  0.7307012375  0.7250321474  0.7562543526  0.7396056580  10.628381636  0.5617522967  0.5720318958  0.1706204414  3100          0.0304378390 \n",
      "0.7501071352  0.7387483926  0.7370225532  0.7291041577  0.7491294798  0.7295327904  10.971232656  0.5488675657  0.5590333128  0.1706204414  3200          0.0258205366 \n",
      "0.7429826441  0.7310330047  0.7269513044  0.7207458208  0.7542186747  0.7372481783  11.314083677  0.5559102264  0.5661256105  0.1706204414  3300          0.0257664871 \n",
      "0.7483929719  0.7381054436  0.7322012107  0.7252464638  0.7553972250  0.7370338620  11.656934697  0.5496942821  0.5601054454  0.1706204414  3400          0.0294378376 \n",
      "^C\n",
      "Process Process-11:\n",
      "Error in atexit._run_exitfuncs:\n",
      "Traceback (most recent call last):\n",
      "  File \"/home/samuel_schapiro/anaconda3/lib/python3.9/site-packages/torch/_dynamo/utils.py\", line 127, in tabulate\n",
      "    import tabulate\n",
      "  File \"/home/samuel_schapiro/anaconda3/lib/python3.9/site-packages/tabulate/__init__.py\", line 714, in <module>\n",
      "    _multiline_codes = re.compile(r\"\\r|\\n|\\r\\n\")\n",
      "  File \"/home/samuel_schapiro/anaconda3/lib/python3.9/re.py\", line 252, in compile\n",
      "    return _compile(pattern, flags)\n",
      "  File \"/home/samuel_schapiro/anaconda3/lib/python3.9/re.py\", line 304, in _compile\n",
      "    p = sre_compile.compile(pattern, flags)\n",
      "  File \"/home/samuel_schapiro/anaconda3/lib/python3.9/sre_compile.py\", line 764, in compile\n",
      "    p = sre_parse.parse(p, flags)\n",
      "  File \"/home/samuel_schapiro/anaconda3/lib/python3.9/sre_parse.py\", line 940, in parse\n",
      "    source = Tokenizer(str)\n",
      "KeyboardInterrupt\n",
      "Traceback (most recent call last):\n",
      "  File \"/home/samuel_schapiro/anaconda3/lib/python3.9/multiprocessing/process.py\", line 318, in _bootstrap\n",
      "    util._exit_function()\n",
      "  File \"/home/samuel_schapiro/anaconda3/lib/python3.9/multiprocessing/util.py\", line 360, in _exit_function\n",
      "    _run_finalizers()\n",
      "  File \"/home/samuel_schapiro/anaconda3/lib/python3.9/multiprocessing/util.py\", line 300, in _run_finalizers\n",
      "    finalizer()\n",
      "  File \"/home/samuel_schapiro/anaconda3/lib/python3.9/multiprocessing/util.py\", line 224, in __call__\n",
      "    res = self._callback(*self._args, **self._kwargs)\n",
      "  File \"/home/samuel_schapiro/anaconda3/lib/python3.9/multiprocessing/queues.py\", line 201, in _finalize_join\n",
      "    thread.join()\n",
      "  File \"/home/samuel_schapiro/anaconda3/lib/python3.9/threading.py\", line 1047, in join\n",
      "    if not self._started.is_set():\n",
      "  File \"/home/samuel_schapiro/anaconda3/lib/python3.9/threading.py\", line 531, in is_set\n",
      "    return self._flag\n",
      "KeyboardInterrupt\n"
     ]
    }
   ],
   "source": [
    "!python3 -m domainbed.scripts.train \\\n",
    "    --data_dir ./domainbed/data/MNIST/ \\\n",
    "    --algorithm SAM \\\n",
    "    --dataset ColoredMNIST \\\n",
    "    --test_env 1 \\\n",
    "    --output_dir ./results_sam_erm_coloredmnist \\\n",
    "    --hparams \"{\\\"sam_rho\\\": 0.05, \\\"lr\\\": 0.001}\""
   ]
  },
  {
   "cell_type": "code",
   "execution_count": null,
   "metadata": {
    "vscode": {
     "languageId": "shellscript"
    }
   },
   "outputs": [],
   "source": []
  }
 ],
 "metadata": {
  "kernelspec": {
   "display_name": "base",
   "language": "python",
   "name": "python3"
  },
  "language_info": {
   "codemirror_mode": {
    "name": "ipython",
    "version": 3
   },
   "file_extension": ".py",
   "mimetype": "text/x-python",
   "name": "python",
   "nbconvert_exporter": "python",
   "pygments_lexer": "ipython3",
   "version": "3.9.7"
  }
 },
 "nbformat": 4,
 "nbformat_minor": 2
}
