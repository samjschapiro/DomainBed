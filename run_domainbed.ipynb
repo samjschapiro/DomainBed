{
 "cells": [
  {
   "cell_type": "code",
   "execution_count": 11,
   "metadata": {
    "vscode": {
     "languageId": "shellscript"
    }
   },
   "outputs": [
    {
     "name": "stdout",
     "output_type": "stream",
     "text": [
      "CODE_OF_CONDUCT.md  LICENSE    \u001b[0m\u001b[01;34mdomainbed\u001b[0m/\n",
      "CONTRIBUTING.md     README.md  run_domainbed.ipynb\n"
     ]
    }
   ],
   "source": [
    "ls"
   ]
  },
  {
   "cell_type": "code",
   "execution_count": null,
   "metadata": {
    "vscode": {
     "languageId": "shellscript"
    }
   },
   "outputs": [],
   "source": [
    "!pip install wilds"
   ]
  },
  {
   "cell_type": "code",
   "execution_count": 3,
   "metadata": {
    "vscode": {
     "languageId": "shellscript"
    }
   },
   "outputs": [
    {
     "name": "stdout",
     "output_type": "stream",
     "text": [
      "Downloading...\n",
      "From: https://storage.googleapis.com/public-datasets-lila/caltechcameratraps/eccv_18_all_images_sm.tar.gz\n",
      "To: /home/samuel_schapiro/domainbed_SAM/DomainBed/domainbed/data/terra_incognita/terra_incognita_images.tar.gz\n",
      "100%|██████████████████████████████████████| 6.49G/6.49G [02:02<00:00, 53.0MB/s]\n",
      "Downloading...\n",
      "From: https://storage.googleapis.com/public-datasets-lila/caltechcameratraps/eccv_18_annotations.tar.gz\n",
      "To: /home/samuel_schapiro/domainbed_SAM/DomainBed/domainbed/data/terra_incognita/eccv_18_annotations.tar.gz\n",
      "100%|██████████████████████████████████████| 3.00M/3.00M [00:00<00:00, 31.6MB/s]\n"
     ]
    }
   ],
   "source": [
    "!python3 -m domainbed.scripts.download \\\n",
    "       --data_dir=./domainbed/data"
   ]
  },
  {
   "cell_type": "code",
   "execution_count": 1,
   "metadata": {
    "vscode": {
     "languageId": "shellscript"
    }
   },
   "outputs": [
    {
     "name": "stdout",
     "output_type": "stream",
     "text": [
      "Traceback (most recent call last):\n",
      "  File \"/home/samuel_schapiro/anaconda3/lib/python3.9/runpy.py\", line 197, in _run_module_as_main\n",
      "    return _run_code(code, main_globals, None,\n",
      "  File \"/home/samuel_schapiro/anaconda3/lib/python3.9/runpy.py\", line 87, in _run_code\n",
      "    exec(code, run_globals)\n",
      "  File \"/home/samuel_schapiro/domainbed_SAM/DomainBed/domainbed/scripts/train.py\", line 20, in <module>\n",
      "    from domainbed import algorithms\n",
      "  File \"/home/samuel_schapiro/domainbed_SAM/DomainBed/domainbed/algorithms.py\", line 7, in <module>\n",
      "    import looksam as looksam\n",
      "ModuleNotFoundError: No module named 'looksam'\n"
     ]
    }
   ],
   "source": [
    "!python3 -m domainbed.scripts.train \\\n",
    "    --data_dir /path/to/datasets \\\n",
    "    --algorithm SAM_ERM \\\n",
    "    --dataset ColoredMNIST \\\n",
    "    --test_env 1 \\\n",
    "    --output_dir ./results_sam_erm_coloredmnist \\\n",
    "    --hparams \"{\\\"sam_rho\\\": 0.05, \\\"lr\\\": 0.001}\""
   ]
  },
  {
   "cell_type": "code",
   "execution_count": null,
   "metadata": {
    "vscode": {
     "languageId": "shellscript"
    }
   },
   "outputs": [],
   "source": []
  }
 ],
 "metadata": {
  "kernelspec": {
   "display_name": "base",
   "language": "python",
   "name": "python3"
  },
  "language_info": {
   "codemirror_mode": {
    "name": "ipython",
    "version": 3
   },
   "file_extension": ".py",
   "mimetype": "text/x-python",
   "name": "python",
   "nbconvert_exporter": "python",
   "pygments_lexer": "ipython3",
   "version": "3.9.7"
  }
 },
 "nbformat": 4,
 "nbformat_minor": 2
}
